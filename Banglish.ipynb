{
  "nbformat": 4,
  "nbformat_minor": 0,
  "metadata": {
    "colab": {
      "provenance": [],
      "gpuType": "T4"
    },
    "kernelspec": {
      "name": "python3",
      "display_name": "Python 3"
    },
    "language_info": {
      "name": "python"
    },
    "accelerator": "GPU"
  },
  "cells": [
    {
      "cell_type": "markdown",
      "source": [
        "# Block 1: Load the Dataset"
      ],
      "metadata": {
        "id": "V4wQxeN0Ud1c"
      }
    },
    {
      "cell_type": "markdown",
      "source": [
        "**Explanation:**\n",
        "\n",
        "**pandas Library:**\n",
        "\n",
        "A Python library used for data manipulation and analysis. `pd.read_csv()` is used here to load a dataset from a CSV file.\n",
        "\n",
        "**Dataset Details:**\n",
        "\n",
        "- `data.info()`: Provides a summary of the dataset, including column names, data types, and the number of non-null entries.\n",
        "- `data.head()`: Displays the first five rows to give an overview of the data.\n",
        "\n",
        "**Missing Values Check:**\n",
        "\n",
        "- `data.isnull().sum()`: Counts missing (null) values in each column to identify any preprocessing needs.\n",
        "\n",
        "**Dataset Columns:**\n",
        "\n",
        "- **SL.**: Serial number of the comment.\n",
        "- **Comment**: The text data (Banglish comments).\n",
        "- **Hate**: Indicates whether the comment contains hate speech (Yes or No).\n",
        "- **Type**: Categorizes the type of hate speech (e.g., Sexual, Slang).\n"
      ],
      "metadata": {
        "id": "mWGQF-lJUgoh"
      }
    },
    {
      "cell_type": "code",
      "execution_count": 23,
      "metadata": {
        "colab": {
          "base_uri": "https://localhost:8080/"
        },
        "id": "BqV7Lk7VEoiD",
        "outputId": "3b602b4d-0ae7-4c5a-e1d0-0ca126f07c4d"
      },
      "outputs": [
        {
          "output_type": "stream",
          "name": "stdout",
          "text": [
            "Dataset Info:\n",
            "<class 'pandas.core.frame.DataFrame'>\n",
            "RangeIndex: 5000 entries, 0 to 4999\n",
            "Data columns (total 4 columns):\n",
            " #   Column   Non-Null Count  Dtype \n",
            "---  ------   --------------  ----- \n",
            " 0   SL.      5000 non-null   int64 \n",
            " 1   Comment  5000 non-null   object\n",
            " 2   Hate     5000 non-null   object\n",
            " 3   Type     5000 non-null   object\n",
            "dtypes: int64(1), object(3)\n",
            "memory usage: 156.4+ KB\n",
            "\n",
            "First 5 rows:\n",
            "   SL.                                  Comment Hate    Type\n",
            "0     1  Kanki ki der Allah sob samoy valo rake  Yes  Others\n",
            "1     2                             khanki akta  Yes  Sexual\n",
            "2     3                           Ore saniliyon  Yes  Sexual\n",
            "3     4                    Bokachoda Shangbadik  Yes   Slang\n",
            "4     5                         Balda dekhaiche  Yes   Slang\n",
            "\n",
            "Missing values:\n",
            "SL.        0\n",
            "Comment    0\n",
            "Hate       0\n",
            "Type       0\n",
            "dtype: int64\n"
          ]
        }
      ],
      "source": [
        "# Block 1: Load the Dataset\n",
        "import pandas as pd\n",
        "\n",
        "# Load the dataset\n",
        "file_path = '/content/Banglish Hate Speech Dataset.csv'\n",
        "data = pd.read_csv(file_path)\n",
        "\n",
        "# Display basic information\n",
        "print(\"Dataset Info:\")\n",
        "data.info()\n",
        "\n",
        "# Preview the first few rows\n",
        "print(\"\\nFirst 5 rows:\")\n",
        "print(data.head())\n",
        "\n",
        "# Check for missing values\n",
        "print(\"\\nMissing values:\")\n",
        "print(data.isnull().sum())\n"
      ]
    },
    {
      "cell_type": "markdown",
      "source": [
        "# Block 2: EDA (Before Preprocessing)"
      ],
      "metadata": {
        "id": "OanHcroyb0S4"
      }
    },
    {
      "cell_type": "markdown",
      "source": [
        "**Explanation:**\n",
        "\n",
        "**Visualization Libraries:**\n",
        "\n",
        "- `matplotlib.pyplot`: A Python library for creating static, interactive, and animated visualizations.\n",
        "- `seaborn`: A Python library built on matplotlib for making statistical graphics.\n",
        "\n",
        "**Class Distribution:**\n",
        "\n",
        "- `sns.countplot()`: Visualizes the count of each class (Yes and No) in the Hate column.\n",
        "\n",
        "**Text Length Analysis:**\n",
        "\n",
        "- `data['text_length'] = data['Comment'].apply(len)`: Computes the number of characters in each comment.\n",
        "- `sns.histplot()`: Plots a histogram to show the distribution of text lengths.\n"
      ],
      "metadata": {
        "id": "k2epTrEpcOeu"
      }
    },
    {
      "cell_type": "code",
      "source": [
        "import matplotlib.pyplot as plt\n",
        "import seaborn as sns\n",
        "\n",
        "# Class distribution\n",
        "plt.figure(figsize=(6, 4))\n",
        "sns.countplot(x='Hate', data=data)\n",
        "plt.title(\"Class Distribution\")\n",
        "plt.xlabel(\"Label\")\n",
        "plt.ylabel(\"Count\")\n",
        "plt.show()\n",
        "\n",
        "# Analyze text length\n",
        "data['text_length'] = data['Comment'].apply(len)\n",
        "plt.figure(figsize=(8, 5))\n",
        "sns.histplot(data['text_length'], bins=30, kde=True)\n",
        "plt.title(\"Text Length Distribution\")\n",
        "plt.xlabel(\"Text Length\")\n",
        "plt.ylabel(\"Frequency\")\n",
        "plt.show()"
      ],
      "metadata": {
        "colab": {
          "base_uri": "https://localhost:8080/",
          "height": 880
        },
        "id": "-W2m7m5GE77O",
        "outputId": "4e57709e-6ac3-434e-f295-506d90043107"
      },
      "execution_count": 24,
      "outputs": [
        {
          "output_type": "display_data",
          "data": {
            "text/plain": [
              "<Figure size 600x400 with 1 Axes>"
            ],
            "image/png": "[encoded data removed]"
          },
          "metadata": {}
        },
        {
          "output_type": "display_data",
          "data": {
            "text/plain": [
              "<Figure size 800x500 with 1 Axes>"
            ],
            "image/png": "[encoded data removed]"
          },
          "metadata": {}
        }
      ]
    },
    {
      "cell_type": "markdown",
      "source": [
        "# Block 3: Preprocessing"
      ],
      "metadata": {
        "id": "DzYax3IIcS5v"
      }
    },
    {
      "cell_type": "markdown",
      "source": [
        "**Explanation:**\n",
        "\n",
        "**Mapping Labels to Binary Values:**\n",
        "\n",
        "- `str.strip()`: Removes leading and trailing spaces.\n",
        "- `str.lower()`: Converts all text to lowercase to ensure consistency.\n",
        "- `map()`: Converts Yes and No into numeric binary values (1 for hate speech, 0 for non-hate).\n",
        "\n",
        "**Text Cleaning:**\n",
        "\n",
        "- `str.replace(r'\\W', ' ', regex=True)`: Replaces all non-word characters (e.g., punctuation) with spaces using a regular expression (`\\W` matches non-alphanumeric characters).\n",
        "\n",
        "**Recalculate Text Length:**\n",
        "\n",
        "After cleaning, the `text_length` column is updated to reflect the new lengths of the comments.\n"
      ],
      "metadata": {
        "id": "eVaY8UoBcT08"
      }
    },
    {
      "cell_type": "code",
      "source": [
        "# Map 'Hate' column to binary values\n",
        "print(\"\\nUnique values in 'Hate':\", data['Hate'].unique())\n",
        "data['Hate'] = data['Hate'].str.strip().str.lower()\n",
        "data['Hate'] = data['Hate'].map({'yes': 1, 'no': 0})\n",
        "\n",
        "# Basic text cleaning\n",
        "data['Comment'] = data['Comment'].str.lower()\n",
        "data['Comment'] = data['Comment'].str.replace(r'\\W', ' ', regex=True)\n",
        "data['Comment'] = data['Comment'].str.strip()\n",
        "\n",
        "# Recalculate text length after cleaning\n",
        "data['text_length'] = data['Comment'].apply(len)"
      ],
      "metadata": {
        "colab": {
          "base_uri": "https://localhost:8080/"
        },
        "id": "EM1Gi0G9E-2H",
        "outputId": "0032eca6-385f-45b5-b55f-83e1b299b89f"
      },
      "execution_count": 25,
      "outputs": [
        {
          "output_type": "stream",
          "name": "stdout",
          "text": [
            "\n",
            "Unique values in 'Hate': ['Yes' 'No']\n"
          ]
        }
      ]
    },
    {
      "cell_type": "markdown",
      "source": [
        "# Block 4: EDA (After Preprocessing)"
      ],
      "metadata": {
        "id": "fbl0k-Y7c6yA"
      }
    },
    {
      "cell_type": "markdown",
      "source": [
        "This block repeats the visualizations from Block 2 but applies them to the cleaned data to observe changes."
      ],
      "metadata": {
        "id": "sy9rXx5mczBr"
      }
    },
    {
      "cell_type": "code",
      "source": [
        "# Class distribution (post-preprocessing)\n",
        "plt.figure(figsize=(6, 4))\n",
        "sns.countplot(x='Hate', data=data)\n",
        "plt.title(\"Class Distribution (Post-Preprocessing)\")\n",
        "plt.xlabel(\"Label\")\n",
        "plt.ylabel(\"Count\")\n",
        "plt.show()\n",
        "\n",
        "\n",
        "# Text length distribution (post-preprocessing)\n",
        "plt.figure(figsize=(8, 5))\n",
        "sns.histplot(data['text_length'], bins=30, kde=True)\n",
        "plt.title(\"Text Length Distribution (Post-Preprocessing)\")\n",
        "plt.xlabel(\"Text Length\")\n",
        "plt.ylabel(\"Frequency\")\n",
        "plt.show()\n"
      ],
      "metadata": {
        "colab": {
          "base_uri": "https://localhost:8080/",
          "height": 880
        },
        "id": "kCFxh57yFFE5",
        "outputId": "30b996c3-4467-434b-f0bc-02390552df3c"
      },
      "execution_count": 26,
      "outputs": [
        {
          "output_type": "display_data",
          "data": {
            "text/plain": [
              "<Figure size 600x400 with 1 Axes>"
            ],
            "image/png": "[encoded data removed]"
          },
          "metadata": {}
        },
        {
          "output_type": "display_data",
          "data": {
            "text/plain": [
              "<Figure size 800x500 with 1 Axes>"
            ],
            "image/png": "[encoded data removed]"
          },
          "metadata": {}
        }
      ]
    },
    {
      "cell_type": "markdown",
      "source": [
        "# Block 5: Data Splitting"
      ],
      "metadata": {
        "id": "ClW8At6-dF9A"
      }
    },
    {
      "cell_type": "markdown",
      "source": [
        "**Explanation:**\n",
        "\n",
        "**train_test_split:**\n",
        "\n",
        "- A function from the `sklearn` library used to split data into training and validation sets.\n",
        "- `test_size=0.2`: 20% of the data is allocated to the validation set.\n",
        "- `random_state=42`: Ensures reproducibility of the split.\n",
        "\n",
        "**Training and Validation Sets:**\n",
        "\n",
        "- `train_texts` and `val_texts`: Comments split into training and validation sets.\n",
        "- `train_labels` and `val_labels`: Corresponding labels for hate speech.\n"
      ],
      "metadata": {
        "id": "Xt9WdciEdG4L"
      }
    },
    {
      "cell_type": "code",
      "source": [
        "from sklearn.model_selection import train_test_split\n",
        "\n",
        "# Split data into train and validation sets\n",
        "train_texts, val_texts, train_labels, val_labels = train_test_split(\n",
        "    data['Comment'], data['Hate'], test_size=0.2, random_state=42\n",
        ")\n",
        "\n",
        "print(\"\\nTraining set size:\", len(train_texts))\n",
        "print(\"Validation set size:\", len(val_texts))"
      ],
      "metadata": {
        "colab": {
          "base_uri": "https://localhost:8080/"
        },
        "id": "X4FBcsGRFVx7",
        "outputId": "35292424-482d-4cb2-f694-966f7b9ab1f4"
      },
      "execution_count": 27,
      "outputs": [
        {
          "output_type": "stream",
          "name": "stdout",
          "text": [
            "\n",
            "Training set size: 4000\n",
            "Validation set size: 1000\n"
          ]
        }
      ]
    },
    {
      "cell_type": "markdown",
      "source": [
        "# Block 6: Tokenization"
      ],
      "metadata": {
        "id": "hXOhtq6PdVXC"
      }
    },
    {
      "cell_type": "markdown",
      "source": [
        "**Explanation:**\n",
        "\n",
        "**What is Tokenization?**\n",
        "\n",
        "The process of splitting text into smaller units (tokens). For example, the sentence \"This is hate speech\" might be tokenized as `['This', 'is', 'hate', 'speech']`.\n",
        "\n",
        "**BERT Tokenizer:**\n",
        "\n",
        "- BERT (Bidirectional Encoder Representations from Transformers) is a transformer-based deep learning model. It supports multilingual and contextualized embeddings.\n",
        "- The `BertTokenizer` is a part of the `transformers` library, which provides tools to preprocess text for BERT models.\n",
        "- `bert-base-multilingual-cased`: A pretrained BERT model that supports multiple languages, including Bengali.\n",
        "\n",
        "**tokenizer.tokenize():**\n",
        "\n",
        "Converts raw text into subword tokens. BERT uses subword tokenization (e.g., breaking a word like \"unhappy\" into `['un', '##happy']`).\n",
        "\n",
        "**Token IDs:**\n",
        "\n",
        "- `convert_tokens_to_ids`: Maps each token to its corresponding ID in BERT's vocabulary.\n"
      ],
      "metadata": {
        "id": "bytPW-Q_dboI"
      }
    },
    {
      "cell_type": "code",
      "source": [
        "from transformers import BertTokenizer\n",
        "\n",
        "# Load the tokenizer\n",
        "tokenizer = BertTokenizer.from_pretrained('bert-base-multilingual-cased')\n",
        "\n",
        "# Tokenize a sample\n",
        "sample_text = train_texts.iloc[0]\n",
        "tokens = tokenizer.tokenize(sample_text)\n",
        "print(\"\\nSample tokenized text:\", tokens)\n",
        "\n",
        "# Convert tokens to IDs\n",
        "token_ids = tokenizer.convert_tokens_to_ids(tokens)\n",
        "print(\"\\nToken IDs:\", token_ids)"
      ],
      "metadata": {
        "colab": {
          "base_uri": "https://localhost:8080/"
        },
        "id": "aUgyHMtBFXzE",
        "outputId": "080ffaa5-665e-485d-c89b-7cd0772af5d9"
      },
      "execution_count": 28,
      "outputs": [
        {
          "output_type": "stream",
          "name": "stdout",
          "text": [
            "\n",
            "Sample tokenized text: ['hij', '##la', 'pro', 'max']\n",
            "\n",
            "Token IDs: [10785, 10330, 11284, 71118]\n"
          ]
        }
      ]
    },
    {
      "cell_type": "markdown",
      "source": [
        "# Block 7: Text Encoding"
      ],
      "metadata": {
        "id": "CDe6PXIkdvtj"
      }
    },
    {
      "cell_type": "markdown",
      "source": [
        "**Explanation:**\n",
        "\n",
        "**Why Encode Texts?**\n",
        "\n",
        "BERT expects input in the form of token IDs and attention masks. This function encodes the text data accordingly.\n",
        "\n",
        "**encode_plus():**\n",
        "\n",
        "- Tokenizes text and converts tokens to IDs.\n",
        "- `truncation=True`: Ensures text longer than `max_length` (128) is truncated.\n",
        "- `padding='max_length'`: Ensures all sequences are padded to `max_length` for uniform input size.\n",
        "- `return_tensors='tf'`: Outputs tensors compatible with TensorFlow.\n",
        "\n",
        "**Attention Masks:**\n",
        "\n",
        "A binary mask indicating which tokens should be attended to (1 for real tokens, 0 for padding).\n",
        "\n",
        "**Numpy Arrays:**\n",
        "\n",
        "Encoded data and labels are returned as numpy arrays, which are easier to work with in TensorFlow.\n"
      ],
      "metadata": {
        "id": "dT_JBe9MdxC7"
      }
    },
    {
      "cell_type": "code",
      "source": [
        "import numpy as np\n",
        "\n",
        "# Define a function to tokenize and encode text\n",
        "def encode_texts(texts, labels, tokenizer, max_length=128):\n",
        "    input_ids = []\n",
        "    attention_masks = []\n",
        "\n",
        "    for text in texts:\n",
        "        encoded = tokenizer.encode_plus(\n",
        "            text,\n",
        "            truncation=True,\n",
        "            padding='max_length',\n",
        "            max_length=max_length,\n",
        "            return_tensors='tf'\n",
        "        )\n",
        "        input_ids.append(encoded['input_ids'][0].numpy())\n",
        "        attention_masks.append(encoded['attention_mask'][0].numpy())\n",
        "\n",
        "    # Ensure labels are in numpy format\n",
        "    labels = np.array(labels)\n",
        "\n",
        "    return np.array(input_ids), np.array(attention_masks), labels\n",
        "\n",
        "# Convert train_labels and val_labels to lists if necessary\n",
        "train_labels = train_labels.tolist() if not isinstance(train_labels, list) else train_labels\n",
        "val_labels = val_labels.tolist() if not isinstance(val_labels, list) else val_labels\n",
        "\n",
        "# Encode train and validation sets\n",
        "train_input_ids, train_attention_masks, train_labels = encode_texts(train_texts, train_labels, tokenizer)\n",
        "val_input_ids, val_attention_masks, val_labels = encode_texts(val_texts, val_labels, tokenizer)\n"
      ],
      "metadata": {
        "id": "0kBOSMbdFfZn"
      },
      "execution_count": 29,
      "outputs": []
    },
    {
      "cell_type": "markdown",
      "source": [
        "# Block 8: Model Definition"
      ],
      "metadata": {
        "id": "NZTVezcjeKAD"
      }
    },
    {
      "cell_type": "markdown",
      "source": [
        "**Explanation:**\n",
        "\n",
        "**TFBertModel:**\n",
        "\n",
        "TensorFlow implementation of BERT. It provides access to the pretrained multilingual BERT model.\n",
        "\n",
        "**Model Architecture:**\n",
        "\n",
        "- `input_ids` and `attention_mask`: Input layers for token IDs and attention masks.\n",
        "- `bert_model()`: Produces contextual embeddings for input sequences.\n",
        "- `pooler_output`: A fixed-size vector representation of the input sequence (used for classification).\n",
        "- **Dense Layer**: A fully connected layer with a sigmoid activation for binary classification.\n",
        "\n",
        "**Optimization:**\n",
        "\n",
        "- **Adam Optimizer**: A widely used optimization algorithm for deep learning.\n",
        "- **Binary Crossentropy Loss**: Suitable for binary classification tasks.\n"
      ],
      "metadata": {
        "id": "ngXbN2v1eL_W"
      }
    },
    {
      "cell_type": "code",
      "source": [
        "from transformers import TFBertModel\n",
        "import tensorflow as tf\n",
        "\n",
        "# Define the model\n",
        "def create_model():\n",
        "    bert_model = TFBertModel.from_pretrained('bert-base-multilingual-cased')\n",
        "\n",
        "    input_ids = tf.keras.Input(shape=(128,), dtype='int32', name='input_ids')\n",
        "    attention_mask = tf.keras.Input(shape=(128,), dtype='int32', name='attention_mask')\n",
        "\n",
        "    bert_output = bert_model(input_ids, attention_mask=attention_mask)\n",
        "    pooled_output = bert_output.pooler_output  # Use pooled output\n",
        "    dense = tf.keras.layers.Dense(1, activation='sigmoid')(pooled_output)\n",
        "\n",
        "    model = tf.keras.Model(inputs=[input_ids, attention_mask], outputs=dense)\n",
        "    return model\n",
        "\n",
        "# Instantiate the model\n",
        "model = create_model()\n",
        "model.compile(optimizer=tf.keras.optimizers.Adam(learning_rate=1e-5),\n",
        "              loss='binary_crossentropy',\n",
        "              metrics=['accuracy'])\n",
        "model.summary()\n"
      ],
      "metadata": {
        "colab": {
          "base_uri": "https://localhost:8080/"
        },
        "id": "i8kNjVzkGG-G",
        "outputId": "1457da3f-e25a-4cbe-bab6-c4ff502c57a5"
      },
      "execution_count": 30,
      "outputs": [
        {
          "output_type": "stream",
          "name": "stderr",
          "text": [
            "Some weights of the PyTorch model were not used when initializing the TF 2.0 model TFBertModel: ['cls.predictions.transform.dense.bias', 'cls.predictions.transform.LayerNorm.weight', 'cls.predictions.transform.dense.weight', 'cls.predictions.transform.LayerNorm.bias', 'cls.seq_relationship.bias', 'cls.seq_relationship.weight', 'cls.predictions.bias']\n",
            "- This IS expected if you are initializing TFBertModel from a PyTorch model trained on another task or with another architecture (e.g. initializing a TFBertForSequenceClassification model from a BertForPreTraining model).\n",
            "- This IS NOT expected if you are initializing TFBertModel from a PyTorch model that you expect to be exactly identical (e.g. initializing a TFBertForSequenceClassification model from a BertForSequenceClassification model).\n",
            "All the weights of TFBertModel were initialized from the PyTorch model.\n",
            "If your task is similar to the task the model of the checkpoint was trained on, you can already use TFBertModel for predictions without further training.\n"
          ]
        },
        {
          "output_type": "stream",
          "name": "stdout",
          "text": [
            "Model: \"model_1\"\n",
            "__________________________________________________________________________________________________\n",
            " Layer (type)                Output Shape                 Param #   Connected to                  \n",
            "==================================================================================================\n",
            " input_ids (InputLayer)      [(None, 128)]                0         []                            \n",
            "                                                                                                  \n",
            " attention_mask (InputLayer  [(None, 128)]                0         []                            \n",
            " )                                                                                                \n",
            "                                                                                                  \n",
            " tf_bert_model_1 (TFBertMod  TFBaseModelOutputWithPooli   1778534   ['input_ids[0][0]',           \n",
            " el)                         ngAndCrossAttentions(last_   40         'attention_mask[0][0]']      \n",
            "                             hidden_state=(None, 128, 7                                           \n",
            "                             68),                                                                 \n",
            "                              pooler_output=(None, 768)                                           \n",
            "                             , past_key_values=None, hi                                           \n",
            "                             dden_states=None, attentio                                           \n",
            "                             ns=None, cross_attentions=                                           \n",
            "                             None)                                                                \n",
            "                                                                                                  \n",
            " dense_1 (Dense)             (None, 1)                    769       ['tf_bert_model_1[0][1]']     \n",
            "                                                                                                  \n",
            "==================================================================================================\n",
            "Total params: 177854209 (678.46 MB)\n",
            "Trainable params: 177854209 (678.46 MB)\n",
            "Non-trainable params: 0 (0.00 Byte)\n",
            "__________________________________________________________________________________________________\n"
          ]
        }
      ]
    },
    {
      "cell_type": "markdown",
      "source": [
        "# Block 9: Model Training"
      ],
      "metadata": {
        "id": "NwfhFgCteg8_"
      }
    },
    {
      "cell_type": "markdown",
      "source": [
        "**Explanation:**\n",
        "\n",
        "**model.fit():**\n",
        "\n",
        "Fits the model to the training data.\n",
        "- `validation_data`: The validation set is used to monitor the model's performance during training.\n",
        "\n",
        "**Hyperparameters:**\n",
        "\n",
        "- `batch_size=16`: The number of samples per training batch.\n",
        "- `epochs=20`: The number of times the model processes the entire dataset.\n"
      ],
      "metadata": {
        "id": "Enp_4tCzeihQ"
      }
    },
    {
      "cell_type": "code",
      "source": [
        "# Train the model\n",
        "history = model.fit(\n",
        "    [train_input_ids, train_attention_masks],\n",
        "    train_labels,\n",
        "    validation_data=([val_input_ids, val_attention_masks], val_labels),\n",
        "    batch_size=16,\n",
        "    epochs=20\n",
        ")\n"
      ],
      "metadata": {
        "colab": {
          "base_uri": "https://localhost:8080/"
        },
        "id": "lAPSv2hZGcSC",
        "outputId": "6ee5d4cb-23b4-4879-8b49-29f5903f3e54"
      },
      "execution_count": 31,
      "outputs": [
        {
          "output_type": "stream",
          "name": "stdout",
          "text": [
            "Epoch 1/20\n",
            "250/250 [==============================] - 136s 426ms/step - loss: 0.6855 - accuracy: 0.5658 - val_loss: 0.6965 - val_accuracy: 0.5530\n",
            "Epoch 2/20\n",
            "250/250 [==============================] - 109s 435ms/step - loss: 0.6634 - accuracy: 0.5928 - val_loss: 0.6206 - val_accuracy: 0.6460\n",
            "Epoch 3/20\n",
            "250/250 [==============================] - 110s 441ms/step - loss: 0.5909 - accuracy: 0.6740 - val_loss: 0.5784 - val_accuracy: 0.6780\n",
            "Epoch 4/20\n",
            "250/250 [==============================] - 110s 439ms/step - loss: 0.5086 - accuracy: 0.7415 - val_loss: 0.5422 - val_accuracy: 0.7130\n",
            "Epoch 5/20\n",
            "250/250 [==============================] - 111s 445ms/step - loss: 0.4255 - accuracy: 0.8023 - val_loss: 0.6098 - val_accuracy: 0.7210\n",
            "Epoch 6/20\n",
            "250/250 [==============================] - 112s 447ms/step - loss: 0.3287 - accuracy: 0.8577 - val_loss: 0.5781 - val_accuracy: 0.7370\n",
            "Epoch 7/20\n",
            "250/250 [==============================] - 111s 446ms/step - loss: 0.2441 - accuracy: 0.9015 - val_loss: 0.6714 - val_accuracy: 0.7490\n",
            "Epoch 8/20\n",
            "250/250 [==============================] - 111s 446ms/step - loss: 0.1682 - accuracy: 0.9342 - val_loss: 0.8269 - val_accuracy: 0.7420\n",
            "Epoch 9/20\n",
            "250/250 [==============================] - 112s 447ms/step - loss: 0.1133 - accuracy: 0.9597 - val_loss: 0.9148 - val_accuracy: 0.7510\n",
            "Epoch 10/20\n",
            "250/250 [==============================] - 110s 442ms/step - loss: 0.0811 - accuracy: 0.9700 - val_loss: 0.9455 - val_accuracy: 0.7430\n",
            "Epoch 11/20\n",
            "250/250 [==============================] - 112s 446ms/step - loss: 0.0797 - accuracy: 0.9710 - val_loss: 1.0203 - val_accuracy: 0.7460\n",
            "Epoch 12/20\n",
            "250/250 [==============================] - 112s 447ms/step - loss: 0.0549 - accuracy: 0.9797 - val_loss: 1.1737 - val_accuracy: 0.7480\n",
            "Epoch 13/20\n",
            "250/250 [==============================] - 112s 446ms/step - loss: 0.0344 - accuracy: 0.9862 - val_loss: 1.5064 - val_accuracy: 0.7420\n",
            "Epoch 14/20\n",
            "250/250 [==============================] - 112s 447ms/step - loss: 0.0431 - accuracy: 0.9860 - val_loss: 1.1806 - val_accuracy: 0.7570\n",
            "Epoch 15/20\n",
            "250/250 [==============================] - 112s 448ms/step - loss: 0.0358 - accuracy: 0.9880 - val_loss: 1.2113 - val_accuracy: 0.7660\n",
            "Epoch 16/20\n",
            "250/250 [==============================] - 111s 446ms/step - loss: 0.0440 - accuracy: 0.9847 - val_loss: 1.0869 - val_accuracy: 0.7440\n",
            "Epoch 17/20\n",
            "250/250 [==============================] - 111s 446ms/step - loss: 0.0388 - accuracy: 0.9862 - val_loss: 0.9482 - val_accuracy: 0.7650\n",
            "Epoch 18/20\n",
            "250/250 [==============================] - 111s 445ms/step - loss: 0.0353 - accuracy: 0.9870 - val_loss: 1.2855 - val_accuracy: 0.7480\n",
            "Epoch 19/20\n",
            "250/250 [==============================] - 111s 446ms/step - loss: 0.0340 - accuracy: 0.9870 - val_loss: 1.1510 - val_accuracy: 0.7470\n",
            "Epoch 20/20\n",
            "250/250 [==============================] - 110s 441ms/step - loss: 0.0307 - accuracy: 0.9895 - val_loss: 1.1908 - val_accuracy: 0.7470\n"
          ]
        }
      ]
    },
    {
      "cell_type": "markdown",
      "source": [
        "# Block 10: Model Evaluation"
      ],
      "metadata": {
        "id": "NtjpBBUxew3x"
      }
    },
    {
      "cell_type": "markdown",
      "source": [
        "**Explanation:**\n",
        "\n",
        "**Predictions:**\n",
        "\n",
        "The model predicts probabilities for each comment.\n",
        "- `(val_predictions > 0.5).astype(int)`: Converts probabilities to binary outputs (1 for hate speech, 0 for non-hate).\n",
        "\n",
        "**Evaluation Metrics:**\n",
        "\n",
        "- `classification_report`: Shows precision, recall, F1-score, and support for each class.\n",
        "- **Confusion Matrix**: A matrix that visualizes the performance of the classifier (e.g., true positives, false negatives).\n"
      ],
      "metadata": {
        "id": "-jPG5SQUezmF"
      }
    },
    {
      "cell_type": "code",
      "source": [
        "from sklearn.metrics import classification_report, confusion_matrix\n",
        "\n",
        "# Predict on the validation set\n",
        "val_predictions = model.predict([val_input_ids, val_attention_masks])\n",
        "val_predictions = (val_predictions > 0.5).astype(int)  # Convert probabilities to binary predictions\n",
        "\n",
        "# Evaluate using sklearn metrics\n",
        "print(\"\\nClassification Report:\")\n",
        "print(classification_report(val_labels, val_predictions, target_names=['Non-Hate', 'Hate']))\n",
        "\n",
        "# Confusion Matrix\n",
        "cm = confusion_matrix(val_labels, val_predictions)\n",
        "plt.figure(figsize=(6, 5))\n",
        "sns.heatmap(cm, annot=True, fmt='d', cmap='Blues', xticklabels=['Non-Hate', 'Hate'], yticklabels=['Non-Hate', 'Hate'])\n",
        "plt.xlabel(\"Predicted Labels\")\n",
        "plt.ylabel(\"True Labels\")\n",
        "plt.title(\"Confusion Matrix\")\n",
        "plt.show()\n"
      ],
      "metadata": {
        "colab": {
          "base_uri": "https://localhost:8080/",
          "height": 695
        },
        "id": "VjSVJ24BGkjO",
        "outputId": "d76bb0c3-748b-4e2c-9a83-4e66756a103c"
      },
      "execution_count": 32,
      "outputs": [
        {
          "output_type": "stream",
          "name": "stdout",
          "text": [
            "32/32 [==============================] - 11s 270ms/step\n",
            "\n",
            "Classification Report:\n",
            "              precision    recall  f1-score   support\n",
            "\n",
            "    Non-Hate       0.75      0.66      0.70       447\n",
            "        Hate       0.75      0.82      0.78       553\n",
            "\n",
            "    accuracy                           0.75      1000\n",
            "   macro avg       0.75      0.74      0.74      1000\n",
            "weighted avg       0.75      0.75      0.74      1000\n",
            "\n"
          ]
        },
        {
          "output_type": "display_data",
          "data": {
            "text/plain": [
              "<Figure size 600x500 with 2 Axes>"
            ],
            "image/png": "[encoded data removed]"
          },
          "metadata": {}
        }
      ]
    },
    {
      "cell_type": "markdown",
      "source": [
        "# Block 11: Model Saving"
      ],
      "metadata": {
        "id": "5HfaqXIyqlVg"
      }
    },
    {
      "cell_type": "markdown",
      "source": [
        "**Explanation:**\n",
        "\n",
        "- `model.save()`: Saves the trained model for reuse. It allows loading the model later without retraining.\n"
      ],
      "metadata": {
        "id": "cOkleOUbq2k8"
      }
    },
    {
      "cell_type": "code",
      "source": [
        "# Save the model\n",
        "model.save('/content/bengali_hate_speech_model')\n",
        "print(\"Model saved successfully!\")\n"
      ],
      "metadata": {
        "colab": {
          "base_uri": "https://localhost:8080/"
        },
        "id": "vP-gCvAAGm4i",
        "outputId": "030bd949-e54f-4176-c206-f692f85d348b"
      },
      "execution_count": 33,
      "outputs": [
        {
          "output_type": "stream",
          "name": "stdout",
          "text": [
            "Model saved successfully!\n"
          ]
        }
      ]
    },
    {
      "cell_type": "markdown",
      "source": [
        "# **Project Workflow for Bengali Hate Speech Detection**\n",
        "\n",
        "This project aims to classify comments into \"Hate\" or \"Non-Hate\" categories based on the Bengali text using BERT (Bidirectional Encoder Representations from Transformers). The workflow involves the following steps:\n",
        "\n",
        "## **1. Dataset Overview**\n",
        "- **Dataset**: Bengali hate speech dataset with 5000 labeled comments.\n",
        "- **Columns**:\n",
        "  - **SL.**: Sequential ID.\n",
        "  - **Comment**: The text of the comment (input text).\n",
        "  - **Hate**: Binary label indicating whether the comment is hate speech (`Yes`) or non-hate speech (`No`).\n",
        "  - **Type**: Type of hate speech (optional, not used for classification in this project).\n",
        "\n",
        "## **2. Data Preprocessing**\n",
        "### **Text Preprocessing**:\n",
        "- **Lowercasing**: All comments are converted to lowercase to maintain uniformity.\n",
        "- **Removal of Special Characters**: Non-alphanumeric characters are removed from the text using regex.\n",
        "- **Stripping Whitespace**: Any leading/trailing whitespaces are removed.\n",
        "- **Tokenization**: Text is tokenized using the BERT tokenizer to convert text into individual tokens (subwords).\n",
        "\n",
        "### **Label Encoding**:\n",
        "- The 'Hate' column is mapped to binary values:\n",
        "  - `Yes → 1` (Hate)\n",
        "  - `No → 0` (Non-Hate)\n",
        "\n",
        "## **3. Tokenization and Attention Mask**\n",
        "### **BERT Tokenizer**:\n",
        "- The BERT tokenizer splits the raw text into tokens and converts them into corresponding token IDs using the BERT vocabulary.\n",
        "\n",
        "### **Attention Mask**:\n",
        "- **Purpose**: To inform the model which tokens are valid (real words) and which are padding.\n",
        "- **Mask Values**:\n",
        "  - `1`: For real tokens.\n",
        "  - `0`: For padding tokens (added to standardize input sequence length).\n",
        "\n",
        "## **4. Feature Extraction Using TFBertModel**\n",
        "### **What is TFBertModel?**\n",
        "- TFBertModel is the TensorFlow implementation of the BERT model.\n",
        "- BERT is a transformer-based model pretrained on vast amounts of text data (like Wikipedia) and fine-tuned for specific tasks such as text classification, question answering, etc.\n",
        "- TFBertModel is used here to extract contextualized word embeddings that represent each token in the sentence based on the entire sentence context.\n",
        "\n",
        "### **How TFBertModel Works**:\n",
        "- **Input**: Tokenized text with corresponding attention masks.\n",
        "- **Outputs**:\n",
        "  - **Last Hidden States**: A sequence of embeddings for each token in the input sequence, representing its meaning based on the surrounding context.\n",
        "  - **Pooled Output**: A single embedding for the entire sentence, obtained from the special `[CLS]` token (used for classification tasks).\n",
        "\n",
        "### **Why TFBertModel is Used**:\n",
        "- BERT's bidirectional attention mechanism allows it to consider the context from both directions (left-to-right and right-to-left), making it highly effective for understanding the meaning of words in relation to their surroundings.\n",
        "- **Fine-Tuning**: The TFBertModel is pretrained, and we fine-tune it for the specific task of hate speech detection by adding a classification layer on top.\n",
        "\n",
        "## **5. Classification Head**\n",
        "- **Pooled Output**: The output of the `[CLS]` token is passed through a dense layer.\n",
        "- **Dense Layer**: This layer has a sigmoid activation function, which converts the model's output into a probability between 0 and 1, indicating whether the comment is \"Hate\" (1) or \"Non-Hate\" (0).\n",
        "\n",
        "## **6. Model Training**\n",
        "### **Training Process**:\n",
        "- The model is trained using binary cross-entropy loss, as it is a binary classification problem.\n",
        "- Adam optimizer with a learning rate of `1e-5` is used for training, which allows fine-tuning of the pretrained BERT model.\n",
        "- **Epochs**: The model is trained for 20 epochs to optimize the weights.\n",
        "\n",
        "## **7. Model Evaluation**\n",
        "### **Metrics**:\n",
        "- **Accuracy**: The percentage of correctly classified comments.\n",
        "- **Classification Report**: Includes precision, recall, and F1-score for both classes (Hate and Non-Hate).\n",
        "- **Confusion Matrix**: Visualizes the model’s performance, showing true positives, false positives, true negatives, and false negatives.\n",
        "\n",
        "## **Key Concepts in the Model**\n",
        "### **1. BERT (Bidirectional Encoder Representations from Transformers)**\n",
        "- Transformer-based model that uses a bidirectional attention mechanism, considering context from both directions.\n",
        "- **Pretraining**: Trained on large text corpora and fine-tuned for tasks like hate speech detection.\n",
        "\n",
        "### **2. Transformer Architecture**\n",
        "- Built on self-attention layers that attend to different parts of the input sequence simultaneously.\n",
        "- Efficient for handling long-range dependencies in text without relying on sequence order.\n",
        "\n",
        "### **3. Attention Mask**\n",
        "- **Purpose**: Tells the model which tokens are real and which are padding.\n",
        "- **Values**:\n",
        "  - `1`: Valid tokens (real words).\n",
        "  - `0`: Padding tokens.\n",
        "\n",
        "### **4. TFBertModel**\n",
        "- TensorFlow implementation of BERT.\n",
        "- Processes input using multi-head self-attention and feed-forward layers.\n",
        "- Outputs:\n",
        "  - **Last Hidden States**: Token-level embeddings.\n",
        "  - **Pooled Output**: Sentence-level representation.\n",
        "\n",
        "### **5. Why Use TFBertModel for Classification?**\n",
        "- BERT captures word meaning in context, crucial for tasks like hate speech detection.\n",
        "- Fine-tuning adapts the pretrained model to the task-specific nuances.\n",
        "\n",
        "## **Classification Approach**\n",
        "1. **BERT Embedding**: Text is passed through TFBertModel to generate token embeddings and a pooled output.\n",
        "2. **Dense Layer**: The pooled output is fed into a dense layer with a sigmoid activation function.\n",
        "3. **Binary Classification**: Outputs a probability score, thresholded to predict the label (1: Hate, 0: Non-Hate).\n",
        "\n",
        "### **Why This Architecture?**\n",
        "- **Transformer over RNNs/LSTMs**: Captures long-range dependencies effectively.\n",
        "- **Pretrained BERT Model**: Leverages pretraining knowledge for nuanced understanding.\n",
        "\n",
        "## **Summary of Workflow**\n",
        "1. **Preprocess Data**: Clean and tokenize text.\n",
        "2. **Tokenization and Encoding**: Convert text into token IDs and generate attention masks.\n",
        "3. **Feature Extraction with TFBertModel**: Extract embeddings for tokens and the sentence.\n",
        "4. **Classification Head**: Apply a dense layer for binary classification.\n",
        "5. **Train and Fine-Tune**: Optimize the model using binary cross-entropy loss.\n",
        "6. **Evaluate and Save**: Assess the model's performance and save it for future use.\n"
      ],
      "metadata": {
        "id": "GJ8tKaKH00n9"
      }
    },
    {
      "cell_type": "markdown",
      "source": [
        "## Example Workflow\n",
        "\n",
        "**Input Text:**  \n",
        "\"Kanki ki der Allah sob samoy valo rake\"\n",
        "\n",
        "**Tokenization:**  \n",
        "`[\"kanki\", \"ki\", \"der\", \"allah\", \"sob\", \"samoy\", \"valo\", \"rake\"]`\n",
        "\n",
        "**Token IDs:**  \n",
        "`[101, 2515, 1563, 1247, 2562, 3652, 1468, 7896, 102]`\n",
        "\n",
        "**Attention Mask:**  \n",
        "`[1, 1, 1, 1, 1, 1, 1, 1, 0, 0]`\n",
        "\n",
        "**BERT Output:**  \n",
        "Contextual embeddings for each token.\n",
        "\n",
        "**Prediction:**  \n",
        "The dense layer outputs a probability (e.g., 0.87 → Hate speech).\n"
      ],
      "metadata": {
        "id": "ZDXQGwSe3NWc"
      }
    }
  ]
}